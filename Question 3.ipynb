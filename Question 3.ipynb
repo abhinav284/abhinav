{
 "cells": [
  {
   "cell_type": "markdown",
   "id": "455f0a70",
   "metadata": {},
   "source": [
    "Question 3: - Write a program, which would download the data from the provided link, and then read the data and convert that into properly structured data and return it in Excel format.\n",
    "\n",
    "Note - Write comments wherever necessary explaining the code written.\n",
    "\n",
    "Link - https://raw.githubusercontent.com/Biuni/PokemonGO-Pokedex/master/pokedex.json Data Attributes - id: Identification Number - int num: Number of the\n",
    "\n",
    "● Pokémon in the official Pokédex - int name: Pokémon name -\n",
    "\n",
    "● string img: URL to an image of this Pokémon - string type:\n",
    "\n",
    "● Pokémon type -string height: Pokémon height - float\n",
    "\n",
    "● weight: Pokémon weight - float candy: type of candy used to evolve Pokémon or given\n",
    "\n",
    "● when transferred - string candy_count: the amount of candies required to evolve\n",
    "\n",
    "int\n",
    "● egg: Number of kilometers to travel to hatch the egg - float spawn_chance:\n",
    "\n",
    "● Percentage of spawn chance (NEW) - float avg_spawns: Number of this pokemon on 10.000 spawns (NEW) - int\n",
    "\n",
    "● spawn_time: Spawns most active at the time on this field. Spawn times are the same for all time zones and are expressed in local time. (NEW) - “minutes: seconds” multipliers: Multiplier of Combat Power (CP) for calculating the CP after evolution See below - list of int weakness: Types of\n",
    "\n",
    "● Pokémon this Pokémon is weak to - list of strings next_evolution: Number and Name of successive evolutions of Pokémon - list of dict prev_evolution: Number and Name of previous evolutions of Pokémon - - list of dict"
   ]
  },
  {
   "cell_type": "code",
   "execution_count": 1,
   "id": "ede967f9",
   "metadata": {},
   "outputs": [],
   "source": [
    "import pandas as pd\n",
    "import requests\n",
    "def download_the_data(url):\n",
    "    response = requests.get(url)\n",
    "    return response.json()\n",
    "def process_the_data(data):\n",
    "    rows = []\n",
    "    for pokemon in data[\"pokemon\"]:\n",
    "        \n",
    "        row = {\n",
    "            \"ID\": pokemon[\"id\"],\n",
    "            \"Number\": pokemon[\"num\"],\n",
    "            \"Name\": pokemon[\"name\"],\n",
    "            \"Image\": pokemon[\"img\"],\n",
    "            \"Type\": \", \".join(pokemon[\"type\"]),\n",
    "            \"Height\": pokemon[\"height\"],\n",
    "            \"Weight\": pokemon[\"weight\"],\n",
    "            \"Candy\": pokemon.get(\"candy\", \"\"),\n",
    "            \"Candy Count\": pokemon.get(\"candy_count\", \"\"),\n",
    "            \"Egg\": pokemon.get(\"egg\", \"\"),\n",
    "            \"Spawn Chance\": pokemon.get(\"spawn_chance\", \"\"),\n",
    "            \"Average Spawns\": pokemon.get(\"avg_spawns\", \"\"),\n",
    "            \"Spawn Time\": pokemon.get(\"spawn_time\", \"\"),\n",
    "            \"Weakness\": \", \".join(pokemon.get(\"weaknesses\", [])),\n",
    "            \"Next Evolution\": \", \".join([evolution[\"name\"] for evolution in pokemon.get(\"next_evolution\", [])]),\n",
    "            \"Previous Evolution\": \", \".join([evolution[\"name\"] for evolution in pokemon.get(\"prev_evolution\", [])])\n",
    "        }\n",
    "        \n",
    "        rows.append(row)\n",
    "    df = pd.DataFrame(rows)\n",
    "    return df\n",
    "def save_as_excel(df, filename):\n",
    "    df.to_excel(filename, index=False)\n",
    "    \n",
    "url = \"https://raw.githubusercontent.com/Biuni/PokemonGO-Pokedex/master/pokedex.json\"\n",
    "data = download_the_data(url)\n",
    "df = process_the_data(data)\n",
    "save_as_excel(df, \"pokemon_data.xlsx\")\n"
   ]
  },
  {
   "cell_type": "code",
   "execution_count": null,
   "id": "52560e33",
   "metadata": {},
   "outputs": [],
   "source": []
  }
 ],
 "metadata": {
  "kernelspec": {
   "display_name": "Python 3 (ipykernel)",
   "language": "python",
   "name": "python3"
  },
  "language_info": {
   "codemirror_mode": {
    "name": "ipython",
    "version": 3
   },
   "file_extension": ".py",
   "mimetype": "text/x-python",
   "name": "python",
   "nbconvert_exporter": "python",
   "pygments_lexer": "ipython3",
   "version": "3.9.7"
  }
 },
 "nbformat": 4,
 "nbformat_minor": 5
}
